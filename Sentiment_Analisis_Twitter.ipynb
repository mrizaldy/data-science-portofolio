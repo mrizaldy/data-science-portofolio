{
  "nbformat": 4,
  "nbformat_minor": 0,
  "metadata": {
    "colab": {
      "name": "Sentiment_Analisis_Twitter.ipynb",
      "provenance": [],
      "collapsed_sections": []
    },
    "kernelspec": {
      "name": "python3",
      "display_name": "Python 3"
    },
    "language_info": {
      "name": "python"
    }
  },
  "cells": [
    {
      "cell_type": "markdown",
      "source": [
        "# **Test Crawling Twitter**"
      ],
      "metadata": {
        "id": "SkfRlnO1gpz2"
      }
    },
    {
      "cell_type": "code",
      "source": [
        "import tweepy\n",
        "from textblob import TextBlob\n",
        "import re"
      ],
      "metadata": {
        "id": "3ZH8ksbdfA3T"
      },
      "execution_count": null,
      "outputs": []
    },
    {
      "cell_type": "code",
      "source": [
        "access_token = \"1468204062378135556-5XRPPg8JcZcdZV8u4fht5jaXHvEIpe\"\n",
        "access_token_secret = \"GPfnObdl9yRaieO5pX5CFZLqJDXPbsahmqxAzLNBnN7Q8\"\n",
        "api_key = \"6aPZ1kyLomWqsODBvwEcPZO4W\"\n",
        "api_key_secret = \"rsRQCiuSq8c9qbOMLmPJbi5pwGIIRQCf1drQo0KhK9kofpuikg\""
      ],
      "metadata": {
        "id": "wQqyRFx5hW2G"
      },
      "execution_count": null,
      "outputs": []
    },
    {
      "cell_type": "code",
      "source": [
        "auth = tweepy.OAuthHandler(api_key,api_key_secret)\n",
        "auth.set_access_token(access_token,access_token_secret)\n",
        "api = tweepy.API(auth)"
      ],
      "metadata": {
        "id": "DGCHhlLc2lFv"
      },
      "execution_count": null,
      "outputs": []
    },
    {
      "cell_type": "code",
      "source": [
        "# Mencari tweet mengenai Machine Learning\n",
        "hasilSearch = api.search(q='Machine Learning',count=500)"
      ],
      "metadata": {
        "id": "f7xQbMX53GrW"
      },
      "execution_count": null,
      "outputs": []
    },
    {
      "cell_type": "code",
      "source": [
        "# Analisis sentimen pada tweet tentang Machine Learning\n",
        "# Inisiasi list untuk tweet berdasarkan sentimen\n",
        "tweet_positif = []\n",
        "tweet_negatif = []\n",
        "tweet_netral = []\n",
        "for tweet in hasilSearch:\n",
        "  # Mendapatkan tweet\n",
        "  hasilTweet = ' '.join(re.sub(\"(@[A-Za-z0-9]+)|([^0-9A-Za-z \\t])|(\\w+:\\/\\/\\S+)\",\" \",tweet.text).split()) # Membersihkan tweet\n",
        "  analisis = TextBlob(hasilTweet)\n",
        "  # Menentukan sentimen\n",
        "  if analisis.sentiment.polarity > 0: # Sentimen positif\n",
        "   tweet_positif.append(hasilTweet)\n",
        "  elif analisis.sentiment.polarity == 0: # Sentimen netral\n",
        "   tweet_netral.append(hasilTweet)\n",
        "  else: # Sentimen negatif\n",
        "   tweet_negatif.append(hasilTweet)"
      ],
      "metadata": {
        "id": "DGZGpuca3SlY"
      },
      "execution_count": null,
      "outputs": []
    },
    {
      "cell_type": "code",
      "source": [
        "# Menghilangkan retweet\n",
        "def Retweet(tweet_sentiment):\n",
        "  tweetSentiment = []\n",
        "  for tweet in tweet_sentiment:\n",
        "    if tweet not in tweetSentiment:\n",
        "      tweetSentiment.append(tweet)\n",
        "  return tweetSentiment\n",
        "tweetPositif = Retweet(tweet_positif)\n",
        "tweetNetral = Retweet(tweet_netral)\n",
        "tweetNegatif = Retweet(tweet_negatif)\n",
        "totalTweet = len(tweetPositif) + len(tweetNetral) + len(tweetNegatif)"
      ],
      "metadata": {
        "id": "1sQNe2ITzeRr"
      },
      "execution_count": null,
      "outputs": []
    },
    {
      "cell_type": "code",
      "source": [
        "# Proporsi sentimen tweet tentang\n",
        "print('Penilaian positif terhadap ML sebanyak: {} %'.format(len(tweetPositif)/totalTweet*100))\n",
        "print('Penilaian netral terhadap ML sebanyak: {} %'.format(len(tweetNetral)/totalTweet*100))\n",
        "print('Penilaian negatif terhadap ML sebanyak: {} %'.format(len(tweetNegatif)/totalTweet*100))"
      ],
      "metadata": {
        "colab": {
          "base_uri": "https://localhost:8080/"
        },
        "id": "sUWmL5TX0fUc",
        "outputId": "2a8a48c1-2667-4691-8f94-079ece13c770"
      },
      "execution_count": null,
      "outputs": [
        {
          "output_type": "stream",
          "name": "stdout",
          "text": [
            "Penilaian positif terhadap ML sebanyak: 51.35135135135135 %\n",
            "Penilaian netral terhadap ML sebanyak: 40.54054054054054 %\n",
            "Penilaian negatif terhadap ML sebanyak: 8.108108108108109 %\n"
          ]
        }
      ]
    },
    {
      "cell_type": "code",
      "source": [
        "# Contoh tweet negatif\n",
        "tweetNegatif"
      ],
      "metadata": {
        "colab": {
          "base_uri": "https://localhost:8080/"
        },
        "id": "SjI0C3GK7qcA",
        "outputId": "26abdb35-a877-47b5-c297-f61b25b6639d"
      },
      "execution_count": null,
      "outputs": [
        {
          "output_type": "execute_result",
          "data": {
            "text/plain": [
              "['RT This Private Equity Firm Is Amassing Companies That Collect Data on America s Children',\n",
              " 'This Private Equity Firm Is Amassing Companies That Collect Data on America s Children',\n",
              " 'RT Artificial intelligence AI is probably the biggest commercial opportunity in today s economy What does it mean for us a']"
            ]
          },
          "metadata": {},
          "execution_count": 125
        }
      ]
    },
    {
      "cell_type": "markdown",
      "source": [
        "Kesimpulannya: Dari 500 tweet pada twitter mengenai Machine Learning, Machine Learning mendapat penilaian yang baik dengan sentimen positif lebih dari 50% sedangkan negatif hanya 8%, sisanya menyatakan sikap netral terhadap Machine Learning"
      ],
      "metadata": {
        "id": "Q2k7rwBz6_Y2"
      }
    },
    {
      "cell_type": "code",
      "source": [
        "# Membuat dataframe dengan hasil sentimen\n",
        "Positif = [[tweet for tweet in tweetPositif],['Positif' for i in range(len(tweetPositif))]]\n",
        "Netral = [[tweet for tweet in tweetNetral],['Netral' for i in range(len(tweetNetral))]]\n",
        "Negatif = [[tweet for tweet in tweetNegatif],['Negatif' for i in range(len(tweetNegatif))]]"
      ],
      "metadata": {
        "id": "NZHkQojJ8XlY"
      },
      "execution_count": null,
      "outputs": []
    },
    {
      "cell_type": "code",
      "source": [
        "def merge(List1,List2):\n",
        "  List = List1.copy()\n",
        "  for i in range(len(List2[0])):\n",
        "    List[0].append(List2[0][i])\n",
        "    List[1].append(List2[1][i])\n",
        "  return List"
      ],
      "metadata": {
        "id": "VMjzExw085Lj"
      },
      "execution_count": null,
      "outputs": []
    },
    {
      "cell_type": "code",
      "source": [
        "ListMerge = merge(Negatif,Positif)\n",
        "ListMerge = merge(ListMerge,Netral) "
      ],
      "metadata": {
        "id": "kInJua3r9jm1"
      },
      "execution_count": null,
      "outputs": []
    },
    {
      "cell_type": "code",
      "source": [
        "import pandas as pd\n",
        "Hasil = pd.DataFrame(ListMerge).transpose()\n",
        "Hasil.columns = ['Tweet','Sentimen']\n",
        "Hasil.head()"
      ],
      "metadata": {
        "colab": {
          "base_uri": "https://localhost:8080/",
          "height": 206
        },
        "id": "rBJyHS91DzxT",
        "outputId": "8d06d368-2416-443a-c1cf-42f65d4adb31"
      },
      "execution_count": null,
      "outputs": [
        {
          "output_type": "execute_result",
          "data": {
            "text/html": [
              "\n",
              "  <div id=\"df-6e886855-7e41-49b3-9353-ff203ab137eb\">\n",
              "    <div class=\"colab-df-container\">\n",
              "      <div>\n",
              "<style scoped>\n",
              "    .dataframe tbody tr th:only-of-type {\n",
              "        vertical-align: middle;\n",
              "    }\n",
              "\n",
              "    .dataframe tbody tr th {\n",
              "        vertical-align: top;\n",
              "    }\n",
              "\n",
              "    .dataframe thead th {\n",
              "        text-align: right;\n",
              "    }\n",
              "</style>\n",
              "<table border=\"1\" class=\"dataframe\">\n",
              "  <thead>\n",
              "    <tr style=\"text-align: right;\">\n",
              "      <th></th>\n",
              "      <th>Tweet</th>\n",
              "      <th>Sentimen</th>\n",
              "    </tr>\n",
              "  </thead>\n",
              "  <tbody>\n",
              "    <tr>\n",
              "      <th>0</th>\n",
              "      <td>RT This Private Equity Firm Is Amassing Compan...</td>\n",
              "      <td>Negatif</td>\n",
              "    </tr>\n",
              "    <tr>\n",
              "      <th>1</th>\n",
              "      <td>This Private Equity Firm Is Amassing Companies...</td>\n",
              "      <td>Negatif</td>\n",
              "    </tr>\n",
              "    <tr>\n",
              "      <th>2</th>\n",
              "      <td>RT Artificial intelligence AI is probably the ...</td>\n",
              "      <td>Negatif</td>\n",
              "    </tr>\n",
              "    <tr>\n",
              "      <th>3</th>\n",
              "      <td>RT io ai Whitelist is now LIVE Machine learnin...</td>\n",
              "      <td>Positif</td>\n",
              "    </tr>\n",
              "    <tr>\n",
              "      <th>4</th>\n",
              "      <td>RT Nominated in the semifinals for the Golden ...</td>\n",
              "      <td>Positif</td>\n",
              "    </tr>\n",
              "  </tbody>\n",
              "</table>\n",
              "</div>\n",
              "      <button class=\"colab-df-convert\" onclick=\"convertToInteractive('df-6e886855-7e41-49b3-9353-ff203ab137eb')\"\n",
              "              title=\"Convert this dataframe to an interactive table.\"\n",
              "              style=\"display:none;\">\n",
              "        \n",
              "  <svg xmlns=\"http://www.w3.org/2000/svg\" height=\"24px\"viewBox=\"0 0 24 24\"\n",
              "       width=\"24px\">\n",
              "    <path d=\"M0 0h24v24H0V0z\" fill=\"none\"/>\n",
              "    <path d=\"M18.56 5.44l.94 2.06.94-2.06 2.06-.94-2.06-.94-.94-2.06-.94 2.06-2.06.94zm-11 1L8.5 8.5l.94-2.06 2.06-.94-2.06-.94L8.5 2.5l-.94 2.06-2.06.94zm10 10l.94 2.06.94-2.06 2.06-.94-2.06-.94-.94-2.06-.94 2.06-2.06.94z\"/><path d=\"M17.41 7.96l-1.37-1.37c-.4-.4-.92-.59-1.43-.59-.52 0-1.04.2-1.43.59L10.3 9.45l-7.72 7.72c-.78.78-.78 2.05 0 2.83L4 21.41c.39.39.9.59 1.41.59.51 0 1.02-.2 1.41-.59l7.78-7.78 2.81-2.81c.8-.78.8-2.07 0-2.86zM5.41 20L4 18.59l7.72-7.72 1.47 1.35L5.41 20z\"/>\n",
              "  </svg>\n",
              "      </button>\n",
              "      \n",
              "  <style>\n",
              "    .colab-df-container {\n",
              "      display:flex;\n",
              "      flex-wrap:wrap;\n",
              "      gap: 12px;\n",
              "    }\n",
              "\n",
              "    .colab-df-convert {\n",
              "      background-color: #E8F0FE;\n",
              "      border: none;\n",
              "      border-radius: 50%;\n",
              "      cursor: pointer;\n",
              "      display: none;\n",
              "      fill: #1967D2;\n",
              "      height: 32px;\n",
              "      padding: 0 0 0 0;\n",
              "      width: 32px;\n",
              "    }\n",
              "\n",
              "    .colab-df-convert:hover {\n",
              "      background-color: #E2EBFA;\n",
              "      box-shadow: 0px 1px 2px rgba(60, 64, 67, 0.3), 0px 1px 3px 1px rgba(60, 64, 67, 0.15);\n",
              "      fill: #174EA6;\n",
              "    }\n",
              "\n",
              "    [theme=dark] .colab-df-convert {\n",
              "      background-color: #3B4455;\n",
              "      fill: #D2E3FC;\n",
              "    }\n",
              "\n",
              "    [theme=dark] .colab-df-convert:hover {\n",
              "      background-color: #434B5C;\n",
              "      box-shadow: 0px 1px 3px 1px rgba(0, 0, 0, 0.15);\n",
              "      filter: drop-shadow(0px 1px 2px rgba(0, 0, 0, 0.3));\n",
              "      fill: #FFFFFF;\n",
              "    }\n",
              "  </style>\n",
              "\n",
              "      <script>\n",
              "        const buttonEl =\n",
              "          document.querySelector('#df-6e886855-7e41-49b3-9353-ff203ab137eb button.colab-df-convert');\n",
              "        buttonEl.style.display =\n",
              "          google.colab.kernel.accessAllowed ? 'block' : 'none';\n",
              "\n",
              "        async function convertToInteractive(key) {\n",
              "          const element = document.querySelector('#df-6e886855-7e41-49b3-9353-ff203ab137eb');\n",
              "          const dataTable =\n",
              "            await google.colab.kernel.invokeFunction('convertToInteractive',\n",
              "                                                     [key], {});\n",
              "          if (!dataTable) return;\n",
              "\n",
              "          const docLinkHtml = 'Like what you see? Visit the ' +\n",
              "            '<a target=\"_blank\" href=https://colab.research.google.com/notebooks/data_table.ipynb>data table notebook</a>'\n",
              "            + ' to learn more about interactive tables.';\n",
              "          element.innerHTML = '';\n",
              "          dataTable['output_type'] = 'display_data';\n",
              "          await google.colab.output.renderOutput(dataTable, element);\n",
              "          const docLink = document.createElement('div');\n",
              "          docLink.innerHTML = docLinkHtml;\n",
              "          element.appendChild(docLink);\n",
              "        }\n",
              "      </script>\n",
              "    </div>\n",
              "  </div>\n",
              "  "
            ],
            "text/plain": [
              "                                               Tweet Sentimen\n",
              "0  RT This Private Equity Firm Is Amassing Compan...  Negatif\n",
              "1  This Private Equity Firm Is Amassing Companies...  Negatif\n",
              "2  RT Artificial intelligence AI is probably the ...  Negatif\n",
              "3  RT io ai Whitelist is now LIVE Machine learnin...  Positif\n",
              "4  RT Nominated in the semifinals for the Golden ...  Positif"
            ]
          },
          "metadata": {},
          "execution_count": 242
        }
      ]
    },
    {
      "cell_type": "code",
      "source": [
        "Hasil[Hasil['Sentimen']=='Positif']"
      ],
      "metadata": {
        "colab": {
          "base_uri": "https://localhost:8080/",
          "height": 645
        },
        "id": "cPF-VgwDEw75",
        "outputId": "ef356eaa-9197-4906-9902-a100fe35b837"
      },
      "execution_count": null,
      "outputs": [
        {
          "output_type": "execute_result",
          "data": {
            "text/html": [
              "\n",
              "  <div id=\"df-b4afba1f-5fb0-4fd6-a0cb-a39a64314f61\">\n",
              "    <div class=\"colab-df-container\">\n",
              "      <div>\n",
              "<style scoped>\n",
              "    .dataframe tbody tr th:only-of-type {\n",
              "        vertical-align: middle;\n",
              "    }\n",
              "\n",
              "    .dataframe tbody tr th {\n",
              "        vertical-align: top;\n",
              "    }\n",
              "\n",
              "    .dataframe thead th {\n",
              "        text-align: right;\n",
              "    }\n",
              "</style>\n",
              "<table border=\"1\" class=\"dataframe\">\n",
              "  <thead>\n",
              "    <tr style=\"text-align: right;\">\n",
              "      <th></th>\n",
              "      <th>Tweet</th>\n",
              "      <th>Sentimen</th>\n",
              "    </tr>\n",
              "  </thead>\n",
              "  <tbody>\n",
              "    <tr>\n",
              "      <th>3</th>\n",
              "      <td>RT io ai Whitelist is now LIVE Machine learnin...</td>\n",
              "      <td>Positif</td>\n",
              "    </tr>\n",
              "    <tr>\n",
              "      <th>4</th>\n",
              "      <td>RT Nominated in the semifinals for the Golden ...</td>\n",
              "      <td>Positif</td>\n",
              "    </tr>\n",
              "    <tr>\n",
              "      <th>5</th>\n",
              "      <td>Nominated in the semifinals for the Golden Kit...</td>\n",
              "      <td>Positif</td>\n",
              "    </tr>\n",
              "    <tr>\n",
              "      <th>6</th>\n",
              "      <td>RT Best Python Libraries for Machine Learning ...</td>\n",
              "      <td>Positif</td>\n",
              "    </tr>\n",
              "    <tr>\n",
              "      <th>7</th>\n",
              "      <td>RT Space io Launch ai IDO Guidelines DeltaFi i...</td>\n",
              "      <td>Positif</td>\n",
              "    </tr>\n",
              "    <tr>\n",
              "      <th>8</th>\n",
              "      <td>RT CES 2022 Recap Perfect Corp Brings Brands i...</td>\n",
              "      <td>Positif</td>\n",
              "    </tr>\n",
              "    <tr>\n",
              "      <th>9</th>\n",
              "      <td>CES 2022 Recap Perfect Corp Brings Brands into...</td>\n",
              "      <td>Positif</td>\n",
              "    </tr>\n",
              "    <tr>\n",
              "      <th>10</th>\n",
              "      <td>RT A Full End to End Deployment of a MachineLe...</td>\n",
              "      <td>Positif</td>\n",
              "    </tr>\n",
              "    <tr>\n",
              "      <th>11</th>\n",
              "      <td>RT Leveraging AI and machine learning ML can m...</td>\n",
              "      <td>Positif</td>\n",
              "    </tr>\n",
              "    <tr>\n",
              "      <th>12</th>\n",
              "      <td>RT FEATURED COURSES Complete Python Developer ...</td>\n",
              "      <td>Positif</td>\n",
              "    </tr>\n",
              "    <tr>\n",
              "      <th>13</th>\n",
              "      <td>RT FEATURED COURSES Machine Learning Data Scie...</td>\n",
              "      <td>Positif</td>\n",
              "    </tr>\n",
              "    <tr>\n",
              "      <th>14</th>\n",
              "      <td>Leveraging AI and machine learning ML can make...</td>\n",
              "      <td>Positif</td>\n",
              "    </tr>\n",
              "    <tr>\n",
              "      <th>15</th>\n",
              "      <td>RT ai It s not a drill has been nominated for ...</td>\n",
              "      <td>Positif</td>\n",
              "    </tr>\n",
              "    <tr>\n",
              "      <th>16</th>\n",
              "      <td>RT brian Society Society What is better machin...</td>\n",
              "      <td>Positif</td>\n",
              "    </tr>\n",
              "    <tr>\n",
              "      <th>17</th>\n",
              "      <td>We need your support to win Head to to vote fo...</td>\n",
              "      <td>Positif</td>\n",
              "    </tr>\n",
              "    <tr>\n",
              "      <th>18</th>\n",
              "      <td>It s not a drill has been nominated for a Gold...</td>\n",
              "      <td>Positif</td>\n",
              "    </tr>\n",
              "    <tr>\n",
              "      <th>19</th>\n",
              "      <td>RT Direct antimicrobial resistance prediction ...</td>\n",
              "      <td>Positif</td>\n",
              "    </tr>\n",
              "    <tr>\n",
              "      <th>20</th>\n",
              "      <td>RT Content It s not a drill has been nominated...</td>\n",
              "      <td>Positif</td>\n",
              "    </tr>\n",
              "    <tr>\n",
              "      <th>21</th>\n",
              "      <td>RT WE RE HIRING Apply now to join our world cl...</td>\n",
              "      <td>Positif</td>\n",
              "    </tr>\n",
              "  </tbody>\n",
              "</table>\n",
              "</div>\n",
              "      <button class=\"colab-df-convert\" onclick=\"convertToInteractive('df-b4afba1f-5fb0-4fd6-a0cb-a39a64314f61')\"\n",
              "              title=\"Convert this dataframe to an interactive table.\"\n",
              "              style=\"display:none;\">\n",
              "        \n",
              "  <svg xmlns=\"http://www.w3.org/2000/svg\" height=\"24px\"viewBox=\"0 0 24 24\"\n",
              "       width=\"24px\">\n",
              "    <path d=\"M0 0h24v24H0V0z\" fill=\"none\"/>\n",
              "    <path d=\"M18.56 5.44l.94 2.06.94-2.06 2.06-.94-2.06-.94-.94-2.06-.94 2.06-2.06.94zm-11 1L8.5 8.5l.94-2.06 2.06-.94-2.06-.94L8.5 2.5l-.94 2.06-2.06.94zm10 10l.94 2.06.94-2.06 2.06-.94-2.06-.94-.94-2.06-.94 2.06-2.06.94z\"/><path d=\"M17.41 7.96l-1.37-1.37c-.4-.4-.92-.59-1.43-.59-.52 0-1.04.2-1.43.59L10.3 9.45l-7.72 7.72c-.78.78-.78 2.05 0 2.83L4 21.41c.39.39.9.59 1.41.59.51 0 1.02-.2 1.41-.59l7.78-7.78 2.81-2.81c.8-.78.8-2.07 0-2.86zM5.41 20L4 18.59l7.72-7.72 1.47 1.35L5.41 20z\"/>\n",
              "  </svg>\n",
              "      </button>\n",
              "      \n",
              "  <style>\n",
              "    .colab-df-container {\n",
              "      display:flex;\n",
              "      flex-wrap:wrap;\n",
              "      gap: 12px;\n",
              "    }\n",
              "\n",
              "    .colab-df-convert {\n",
              "      background-color: #E8F0FE;\n",
              "      border: none;\n",
              "      border-radius: 50%;\n",
              "      cursor: pointer;\n",
              "      display: none;\n",
              "      fill: #1967D2;\n",
              "      height: 32px;\n",
              "      padding: 0 0 0 0;\n",
              "      width: 32px;\n",
              "    }\n",
              "\n",
              "    .colab-df-convert:hover {\n",
              "      background-color: #E2EBFA;\n",
              "      box-shadow: 0px 1px 2px rgba(60, 64, 67, 0.3), 0px 1px 3px 1px rgba(60, 64, 67, 0.15);\n",
              "      fill: #174EA6;\n",
              "    }\n",
              "\n",
              "    [theme=dark] .colab-df-convert {\n",
              "      background-color: #3B4455;\n",
              "      fill: #D2E3FC;\n",
              "    }\n",
              "\n",
              "    [theme=dark] .colab-df-convert:hover {\n",
              "      background-color: #434B5C;\n",
              "      box-shadow: 0px 1px 3px 1px rgba(0, 0, 0, 0.15);\n",
              "      filter: drop-shadow(0px 1px 2px rgba(0, 0, 0, 0.3));\n",
              "      fill: #FFFFFF;\n",
              "    }\n",
              "  </style>\n",
              "\n",
              "      <script>\n",
              "        const buttonEl =\n",
              "          document.querySelector('#df-b4afba1f-5fb0-4fd6-a0cb-a39a64314f61 button.colab-df-convert');\n",
              "        buttonEl.style.display =\n",
              "          google.colab.kernel.accessAllowed ? 'block' : 'none';\n",
              "\n",
              "        async function convertToInteractive(key) {\n",
              "          const element = document.querySelector('#df-b4afba1f-5fb0-4fd6-a0cb-a39a64314f61');\n",
              "          const dataTable =\n",
              "            await google.colab.kernel.invokeFunction('convertToInteractive',\n",
              "                                                     [key], {});\n",
              "          if (!dataTable) return;\n",
              "\n",
              "          const docLinkHtml = 'Like what you see? Visit the ' +\n",
              "            '<a target=\"_blank\" href=https://colab.research.google.com/notebooks/data_table.ipynb>data table notebook</a>'\n",
              "            + ' to learn more about interactive tables.';\n",
              "          element.innerHTML = '';\n",
              "          dataTable['output_type'] = 'display_data';\n",
              "          await google.colab.output.renderOutput(dataTable, element);\n",
              "          const docLink = document.createElement('div');\n",
              "          docLink.innerHTML = docLinkHtml;\n",
              "          element.appendChild(docLink);\n",
              "        }\n",
              "      </script>\n",
              "    </div>\n",
              "  </div>\n",
              "  "
            ],
            "text/plain": [
              "                                                Tweet Sentimen\n",
              "3   RT io ai Whitelist is now LIVE Machine learnin...  Positif\n",
              "4   RT Nominated in the semifinals for the Golden ...  Positif\n",
              "5   Nominated in the semifinals for the Golden Kit...  Positif\n",
              "6   RT Best Python Libraries for Machine Learning ...  Positif\n",
              "7   RT Space io Launch ai IDO Guidelines DeltaFi i...  Positif\n",
              "8   RT CES 2022 Recap Perfect Corp Brings Brands i...  Positif\n",
              "9   CES 2022 Recap Perfect Corp Brings Brands into...  Positif\n",
              "10  RT A Full End to End Deployment of a MachineLe...  Positif\n",
              "11  RT Leveraging AI and machine learning ML can m...  Positif\n",
              "12  RT FEATURED COURSES Complete Python Developer ...  Positif\n",
              "13  RT FEATURED COURSES Machine Learning Data Scie...  Positif\n",
              "14  Leveraging AI and machine learning ML can make...  Positif\n",
              "15  RT ai It s not a drill has been nominated for ...  Positif\n",
              "16  RT brian Society Society What is better machin...  Positif\n",
              "17  We need your support to win Head to to vote fo...  Positif\n",
              "18  It s not a drill has been nominated for a Gold...  Positif\n",
              "19  RT Direct antimicrobial resistance prediction ...  Positif\n",
              "20  RT Content It s not a drill has been nominated...  Positif\n",
              "21  RT WE RE HIRING Apply now to join our world cl...  Positif"
            ]
          },
          "metadata": {},
          "execution_count": 244
        }
      ]
    },
    {
      "cell_type": "code",
      "source": [
        "Hasil.to_excel('sentiment analysis ML on twitter.xlsx')"
      ],
      "metadata": {
        "id": "Q7wq6d29EbTy"
      },
      "execution_count": null,
      "outputs": []
    }
  ]
}